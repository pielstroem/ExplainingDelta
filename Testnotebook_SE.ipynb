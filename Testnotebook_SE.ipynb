{
 "cells": [
  {
   "cell_type": "code",
   "execution_count": 4,
   "metadata": {
    "collapsed": true
   },
   "outputs": [],
   "source": [
    "%matplotlib inline"
   ]
  },
  {
   "cell_type": "markdown",
   "metadata": {},
   "source": [
    "# Notebook zum Rumspielen #\n",
    "\n",
    "## Verteilung der z-scores plotten"
   ]
  },
  {
   "cell_type": "code",
   "execution_count": 7,
   "metadata": {
    "collapsed": false
   },
   "outputs": [],
   "source": [
    "import matplotlib.pyplot as plt\n",
    "import numpy as np\n",
    "import scipy.stats\n",
    "\n",
    "import helper"
   ]
  },
  {
   "cell_type": "markdown",
   "metadata": {},
   "source": [
    "Deutsches Beispielkorpus einlesen:"
   ]
  },
  {
   "cell_type": "code",
   "execution_count": 10,
   "metadata": {
    "collapsed": false
   },
   "outputs": [],
   "source": [
    "terms, documents, matrix = helper.read_csv(\"data/delta_corpus_DE.csv\")\n",
    "authors = helper.extract_authors_from_document_names(documents)"
   ]
  },
  {
   "cell_type": "markdown",
   "metadata": {},
   "source": [
    "It's much better to import the data as a Pandas array, though:"
   ]
  },
  {
   "cell_type": "code",
   "execution_count": 24,
   "metadata": {
    "collapsed": false
   },
   "outputs": [],
   "source": [
    "import pandas as pd\n",
    "data = pd.read_csv(\"data/delta_corpus_DE.csv\", sep=\",\", index_col=0)"
   ]
  },
  {
   "cell_type": "code",
   "execution_count": 28,
   "metadata": {
    "collapsed": false
   },
   "outputs": [
    {
     "data": {
      "text/html": [
       "<div>\n",
       "<table border=\"1\" class=\"dataframe\">\n",
       "  <thead>\n",
       "    <tr style=\"text-align: right;\">\n",
       "      <th></th>\n",
       "      <th>Spielhagen,-Friedrich_Zum Zeitvertreib.txt</th>\n",
       "      <th>Goethe,-Johann-Wolfgang_Die Leiden des jungen Werther.txt</th>\n",
       "      <th>Marlitt,-Eugenie_Goldelse.txt</th>\n",
       "      <th>Raabe,-Wilhelm_Stopfkuchen. Eine See- und Mordgeschichte.txt</th>\n",
       "      <th>Huber,-Therese_Luise.txt</th>\n",
       "      <th>Hauff,-Wilhelm_Lichtenstein.txt</th>\n",
       "      <th>May,-Karl_Kurdistan.txt</th>\n",
       "      <th>Fontane,-Theodor_Effi Briest.txt</th>\n",
       "      <th>Fouqué,-Caroline-de-la-Motte_Die Frau des Falkensteins.txt</th>\n",
       "      <th>Hahn-Hahn,-Ida-Gräfin-von_Gräfin Faustine.txt</th>\n",
       "      <th>...</th>\n",
       "      <th>Arnim,-Ludwig-Achim-von_Kronenwächter 1.txt</th>\n",
       "      <th>Spielhagen,-Friedrich_Problematische Naturen. Erste Abtheilung.txt</th>\n",
       "      <th>Fouqué,-Caroline-de-la-Motte_Magie der Natur.txt</th>\n",
       "      <th>Jean-Paul_Flegeljahre.txt</th>\n",
       "      <th>Huber,-Therese_Die Familie Seldorf.txt</th>\n",
       "      <th>Ebner-Eschenbach,-Marie-von_Bozena.txt</th>\n",
       "      <th>Tieck,-Ludwig_Geschichte des Herrn William Lovell.txt</th>\n",
       "      <th>May,-Karl_Old Surehand I.txt</th>\n",
       "      <th>Wieland,-Christoph-Martin_Die Abenteuer des Don Sylvio von Rosalva.txt</th>\n",
       "      <th>Schopenhauer,-Johanna_Gabriele.txt</th>\n",
       "    </tr>\n",
       "  </thead>\n",
       "  <tbody>\n",
       "    <tr>\n",
       "      <th>und</th>\n",
       "      <td>1131</td>\n",
       "      <td>1372</td>\n",
       "      <td>2973</td>\n",
       "      <td>2460</td>\n",
       "      <td>950</td>\n",
       "      <td>3752</td>\n",
       "      <td>4045</td>\n",
       "      <td>3440</td>\n",
       "      <td>2110</td>\n",
       "      <td>2337</td>\n",
       "      <td>...</td>\n",
       "      <td>2749</td>\n",
       "      <td>5081</td>\n",
       "      <td>1403</td>\n",
       "      <td>5907</td>\n",
       "      <td>2876</td>\n",
       "      <td>1986</td>\n",
       "      <td>5444</td>\n",
       "      <td>4093</td>\n",
       "      <td>3038</td>\n",
       "      <td>3919</td>\n",
       "    </tr>\n",
       "    <tr>\n",
       "      <th>die</th>\n",
       "      <td>1370</td>\n",
       "      <td>858</td>\n",
       "      <td>2569</td>\n",
       "      <td>1137</td>\n",
       "      <td>793</td>\n",
       "      <td>2877</td>\n",
       "      <td>2650</td>\n",
       "      <td>1801</td>\n",
       "      <td>1425</td>\n",
       "      <td>1595</td>\n",
       "      <td>...</td>\n",
       "      <td>2494</td>\n",
       "      <td>4583</td>\n",
       "      <td>1027</td>\n",
       "      <td>3759</td>\n",
       "      <td>2149</td>\n",
       "      <td>1508</td>\n",
       "      <td>3323</td>\n",
       "      <td>2631</td>\n",
       "      <td>3194</td>\n",
       "      <td>2790</td>\n",
       "    </tr>\n",
       "    <tr>\n",
       "      <th>der</th>\n",
       "      <td>1262</td>\n",
       "      <td>743</td>\n",
       "      <td>1995</td>\n",
       "      <td>1468</td>\n",
       "      <td>567</td>\n",
       "      <td>2964</td>\n",
       "      <td>2757</td>\n",
       "      <td>1423</td>\n",
       "      <td>1135</td>\n",
       "      <td>1322</td>\n",
       "      <td>...</td>\n",
       "      <td>2619</td>\n",
       "      <td>4181</td>\n",
       "      <td>878</td>\n",
       "      <td>3934</td>\n",
       "      <td>1940</td>\n",
       "      <td>1252</td>\n",
       "      <td>2429</td>\n",
       "      <td>2253</td>\n",
       "      <td>2322</td>\n",
       "      <td>3090</td>\n",
       "    </tr>\n",
       "    <tr>\n",
       "      <th>zu</th>\n",
       "      <td>855</td>\n",
       "      <td>579</td>\n",
       "      <td>1261</td>\n",
       "      <td>763</td>\n",
       "      <td>1091</td>\n",
       "      <td>1681</td>\n",
       "      <td>2113</td>\n",
       "      <td>982</td>\n",
       "      <td>916</td>\n",
       "      <td>1054</td>\n",
       "      <td>...</td>\n",
       "      <td>1309</td>\n",
       "      <td>2675</td>\n",
       "      <td>599</td>\n",
       "      <td>1851</td>\n",
       "      <td>1551</td>\n",
       "      <td>940</td>\n",
       "      <td>2128</td>\n",
       "      <td>2526</td>\n",
       "      <td>2377</td>\n",
       "      <td>3292</td>\n",
       "    </tr>\n",
       "    <tr>\n",
       "      <th>in</th>\n",
       "      <td>872</td>\n",
       "      <td>479</td>\n",
       "      <td>1438</td>\n",
       "      <td>859</td>\n",
       "      <td>487</td>\n",
       "      <td>1633</td>\n",
       "      <td>1451</td>\n",
       "      <td>1040</td>\n",
       "      <td>1022</td>\n",
       "      <td>944</td>\n",
       "      <td>...</td>\n",
       "      <td>1362</td>\n",
       "      <td>3005</td>\n",
       "      <td>689</td>\n",
       "      <td>2032</td>\n",
       "      <td>1339</td>\n",
       "      <td>794</td>\n",
       "      <td>2357</td>\n",
       "      <td>1269</td>\n",
       "      <td>1774</td>\n",
       "      <td>2540</td>\n",
       "    </tr>\n",
       "  </tbody>\n",
       "</table>\n",
       "<p>5 rows × 75 columns</p>\n",
       "</div>"
      ],
      "text/plain": [
       "     Spielhagen,-Friedrich_Zum Zeitvertreib.txt  \\\n",
       "und                                        1131   \n",
       "die                                        1370   \n",
       "der                                        1262   \n",
       "zu                                          855   \n",
       "in                                          872   \n",
       "\n",
       "     Goethe,-Johann-Wolfgang_Die Leiden des jungen Werther.txt  \\\n",
       "und                                               1372           \n",
       "die                                                858           \n",
       "der                                                743           \n",
       "zu                                                 579           \n",
       "in                                                 479           \n",
       "\n",
       "     Marlitt,-Eugenie_Goldelse.txt  \\\n",
       "und                           2973   \n",
       "die                           2569   \n",
       "der                           1995   \n",
       "zu                            1261   \n",
       "in                            1438   \n",
       "\n",
       "     Raabe,-Wilhelm_Stopfkuchen. Eine See- und Mordgeschichte.txt  \\\n",
       "und                                               2460              \n",
       "die                                               1137              \n",
       "der                                               1468              \n",
       "zu                                                 763              \n",
       "in                                                 859              \n",
       "\n",
       "     Huber,-Therese_Luise.txt  Hauff,-Wilhelm_Lichtenstein.txt  \\\n",
       "und                       950                             3752   \n",
       "die                       793                             2877   \n",
       "der                       567                             2964   \n",
       "zu                       1091                             1681   \n",
       "in                        487                             1633   \n",
       "\n",
       "     May,-Karl_Kurdistan.txt  Fontane,-Theodor_Effi Briest.txt  \\\n",
       "und                     4045                              3440   \n",
       "die                     2650                              1801   \n",
       "der                     2757                              1423   \n",
       "zu                      2113                               982   \n",
       "in                      1451                              1040   \n",
       "\n",
       "     Fouqué,-Caroline-de-la-Motte_Die Frau des Falkensteins.txt  \\\n",
       "und                                               2110            \n",
       "die                                               1425            \n",
       "der                                               1135            \n",
       "zu                                                 916            \n",
       "in                                                1022            \n",
       "\n",
       "     Hahn-Hahn,-Ida-Gräfin-von_Gräfin Faustine.txt  \\\n",
       "und                                           2337   \n",
       "die                                           1595   \n",
       "der                                           1322   \n",
       "zu                                            1054   \n",
       "in                                             944   \n",
       "\n",
       "                    ...                  \\\n",
       "und                 ...                   \n",
       "die                 ...                   \n",
       "der                 ...                   \n",
       "zu                  ...                   \n",
       "in                  ...                   \n",
       "\n",
       "     Arnim,-Ludwig-Achim-von_Kronenwächter 1.txt  \\\n",
       "und                                         2749   \n",
       "die                                         2494   \n",
       "der                                         2619   \n",
       "zu                                          1309   \n",
       "in                                          1362   \n",
       "\n",
       "     Spielhagen,-Friedrich_Problematische Naturen. Erste Abtheilung.txt  \\\n",
       "und                                               5081                    \n",
       "die                                               4583                    \n",
       "der                                               4181                    \n",
       "zu                                                2675                    \n",
       "in                                                3005                    \n",
       "\n",
       "     Fouqué,-Caroline-de-la-Motte_Magie der Natur.txt  \\\n",
       "und                                              1403   \n",
       "die                                              1027   \n",
       "der                                               878   \n",
       "zu                                                599   \n",
       "in                                                689   \n",
       "\n",
       "     Jean-Paul_Flegeljahre.txt  Huber,-Therese_Die Familie Seldorf.txt  \\\n",
       "und                       5907                                    2876   \n",
       "die                       3759                                    2149   \n",
       "der                       3934                                    1940   \n",
       "zu                        1851                                    1551   \n",
       "in                        2032                                    1339   \n",
       "\n",
       "     Ebner-Eschenbach,-Marie-von_Bozena.txt  \\\n",
       "und                                    1986   \n",
       "die                                    1508   \n",
       "der                                    1252   \n",
       "zu                                      940   \n",
       "in                                      794   \n",
       "\n",
       "     Tieck,-Ludwig_Geschichte des Herrn William Lovell.txt  \\\n",
       "und                                               5444       \n",
       "die                                               3323       \n",
       "der                                               2429       \n",
       "zu                                                2128       \n",
       "in                                                2357       \n",
       "\n",
       "     May,-Karl_Old Surehand I.txt  \\\n",
       "und                          4093   \n",
       "die                          2631   \n",
       "der                          2253   \n",
       "zu                           2526   \n",
       "in                           1269   \n",
       "\n",
       "     Wieland,-Christoph-Martin_Die Abenteuer des Don Sylvio von Rosalva.txt  \\\n",
       "und                                               3038                        \n",
       "die                                               3194                        \n",
       "der                                               2322                        \n",
       "zu                                                2377                        \n",
       "in                                                1774                        \n",
       "\n",
       "     Schopenhauer,-Johanna_Gabriele.txt  \n",
       "und                                3919  \n",
       "die                                2790  \n",
       "der                                3090  \n",
       "zu                                 3292  \n",
       "in                                 2540  \n",
       "\n",
       "[5 rows x 75 columns]"
      ]
     },
     "execution_count": 28,
     "metadata": {},
     "output_type": "execute_result"
    }
   ],
   "source": [
    "data.head()"
   ]
  },
  {
   "cell_type": "code",
   "execution_count": 38,
   "metadata": {
    "collapsed": false
   },
   "outputs": [
    {
     "data": {
      "text/html": [
       "<div>\n",
       "<table border=\"1\" class=\"dataframe\">\n",
       "  <thead>\n",
       "    <tr style=\"text-align: right;\">\n",
       "      <th></th>\n",
       "      <th>Spielhagen,-Friedrich_Zum Zeitvertreib.txt</th>\n",
       "      <th>Goethe,-Johann-Wolfgang_Die Leiden des jungen Werther.txt</th>\n",
       "      <th>Marlitt,-Eugenie_Goldelse.txt</th>\n",
       "      <th>Raabe,-Wilhelm_Stopfkuchen. Eine See- und Mordgeschichte.txt</th>\n",
       "      <th>Huber,-Therese_Luise.txt</th>\n",
       "    </tr>\n",
       "  </thead>\n",
       "  <tbody>\n",
       "    <tr>\n",
       "      <th>und</th>\n",
       "      <td>1131</td>\n",
       "      <td>1372</td>\n",
       "      <td>2973</td>\n",
       "      <td>2460</td>\n",
       "      <td>950</td>\n",
       "    </tr>\n",
       "    <tr>\n",
       "      <th>die</th>\n",
       "      <td>1370</td>\n",
       "      <td>858</td>\n",
       "      <td>2569</td>\n",
       "      <td>1137</td>\n",
       "      <td>793</td>\n",
       "    </tr>\n",
       "    <tr>\n",
       "      <th>der</th>\n",
       "      <td>1262</td>\n",
       "      <td>743</td>\n",
       "      <td>1995</td>\n",
       "      <td>1468</td>\n",
       "      <td>567</td>\n",
       "    </tr>\n",
       "    <tr>\n",
       "      <th>zu</th>\n",
       "      <td>855</td>\n",
       "      <td>579</td>\n",
       "      <td>1261</td>\n",
       "      <td>763</td>\n",
       "      <td>1091</td>\n",
       "    </tr>\n",
       "    <tr>\n",
       "      <th>in</th>\n",
       "      <td>872</td>\n",
       "      <td>479</td>\n",
       "      <td>1438</td>\n",
       "      <td>859</td>\n",
       "      <td>487</td>\n",
       "    </tr>\n",
       "    <tr>\n",
       "      <th>er</th>\n",
       "      <td>688</td>\n",
       "      <td>380</td>\n",
       "      <td>932</td>\n",
       "      <td>469</td>\n",
       "      <td>451</td>\n",
       "    </tr>\n",
       "    <tr>\n",
       "      <th>den</th>\n",
       "      <td>670</td>\n",
       "      <td>373</td>\n",
       "      <td>1286</td>\n",
       "      <td>757</td>\n",
       "      <td>352</td>\n",
       "    </tr>\n",
       "    <tr>\n",
       "      <th>sie</th>\n",
       "      <td>672</td>\n",
       "      <td>591</td>\n",
       "      <td>1634</td>\n",
       "      <td>355</td>\n",
       "      <td>1329</td>\n",
       "    </tr>\n",
       "    <tr>\n",
       "      <th>ich</th>\n",
       "      <td>444</td>\n",
       "      <td>936</td>\n",
       "      <td>786</td>\n",
       "      <td>1015</td>\n",
       "      <td>61</td>\n",
       "    </tr>\n",
       "    <tr>\n",
       "      <th>nicht</th>\n",
       "      <td>780</td>\n",
       "      <td>459</td>\n",
       "      <td>946</td>\n",
       "      <td>719</td>\n",
       "      <td>369</td>\n",
       "    </tr>\n",
       "  </tbody>\n",
       "</table>\n",
       "</div>"
      ],
      "text/plain": [
       "       Spielhagen,-Friedrich_Zum Zeitvertreib.txt  \\\n",
       "und                                          1131   \n",
       "die                                          1370   \n",
       "der                                          1262   \n",
       "zu                                            855   \n",
       "in                                            872   \n",
       "er                                            688   \n",
       "den                                           670   \n",
       "sie                                           672   \n",
       "ich                                           444   \n",
       "nicht                                         780   \n",
       "\n",
       "       Goethe,-Johann-Wolfgang_Die Leiden des jungen Werther.txt  \\\n",
       "und                                                 1372           \n",
       "die                                                  858           \n",
       "der                                                  743           \n",
       "zu                                                   579           \n",
       "in                                                   479           \n",
       "er                                                   380           \n",
       "den                                                  373           \n",
       "sie                                                  591           \n",
       "ich                                                  936           \n",
       "nicht                                                459           \n",
       "\n",
       "       Marlitt,-Eugenie_Goldelse.txt  \\\n",
       "und                             2973   \n",
       "die                             2569   \n",
       "der                             1995   \n",
       "zu                              1261   \n",
       "in                              1438   \n",
       "er                               932   \n",
       "den                             1286   \n",
       "sie                             1634   \n",
       "ich                              786   \n",
       "nicht                            946   \n",
       "\n",
       "       Raabe,-Wilhelm_Stopfkuchen. Eine See- und Mordgeschichte.txt  \\\n",
       "und                                                 2460              \n",
       "die                                                 1137              \n",
       "der                                                 1468              \n",
       "zu                                                   763              \n",
       "in                                                   859              \n",
       "er                                                   469              \n",
       "den                                                  757              \n",
       "sie                                                  355              \n",
       "ich                                                 1015              \n",
       "nicht                                                719              \n",
       "\n",
       "       Huber,-Therese_Luise.txt  \n",
       "und                         950  \n",
       "die                         793  \n",
       "der                         567  \n",
       "zu                         1091  \n",
       "in                          487  \n",
       "er                          451  \n",
       "den                         352  \n",
       "sie                        1329  \n",
       "ich                          61  \n",
       "nicht                       369  "
      ]
     },
     "execution_count": 38,
     "metadata": {},
     "output_type": "execute_result"
    }
   ],
   "source": [
    "data2 = data.ix[0:10,0:5]\n",
    "data2"
   ]
  },
  {
   "cell_type": "code",
   "execution_count": 55,
   "metadata": {
    "collapsed": false
   },
   "outputs": [
    {
     "data": {
      "text/html": [
       "<div>\n",
       "<table border=\"1\" class=\"dataframe\">\n",
       "  <thead>\n",
       "    <tr style=\"text-align: right;\">\n",
       "      <th></th>\n",
       "      <th>Spielhagen,-Friedrich_Zum Zeitvertreib.txt</th>\n",
       "      <th>Goethe,-Johann-Wolfgang_Die Leiden des jungen Werther.txt</th>\n",
       "      <th>Marlitt,-Eugenie_Goldelse.txt</th>\n",
       "      <th>Raabe,-Wilhelm_Stopfkuchen. Eine See- und Mordgeschichte.txt</th>\n",
       "      <th>Huber,-Therese_Luise.txt</th>\n",
       "    </tr>\n",
       "  </thead>\n",
       "  <tbody>\n",
       "    <tr>\n",
       "      <th>und</th>\n",
       "      <td>-646.2</td>\n",
       "      <td>-405.2</td>\n",
       "      <td>1195.8</td>\n",
       "      <td>682.8</td>\n",
       "      <td>-827.2</td>\n",
       "    </tr>\n",
       "    <tr>\n",
       "      <th>die</th>\n",
       "      <td>24.6</td>\n",
       "      <td>-487.4</td>\n",
       "      <td>1223.6</td>\n",
       "      <td>-208.4</td>\n",
       "      <td>-552.4</td>\n",
       "    </tr>\n",
       "    <tr>\n",
       "      <th>der</th>\n",
       "      <td>55.0</td>\n",
       "      <td>-464.0</td>\n",
       "      <td>788.0</td>\n",
       "      <td>261.0</td>\n",
       "      <td>-640.0</td>\n",
       "    </tr>\n",
       "    <tr>\n",
       "      <th>zu</th>\n",
       "      <td>-54.8</td>\n",
       "      <td>-330.8</td>\n",
       "      <td>351.2</td>\n",
       "      <td>-146.8</td>\n",
       "      <td>181.2</td>\n",
       "    </tr>\n",
       "    <tr>\n",
       "      <th>in</th>\n",
       "      <td>45.0</td>\n",
       "      <td>-348.0</td>\n",
       "      <td>611.0</td>\n",
       "      <td>32.0</td>\n",
       "      <td>-340.0</td>\n",
       "    </tr>\n",
       "    <tr>\n",
       "      <th>er</th>\n",
       "      <td>104.0</td>\n",
       "      <td>-204.0</td>\n",
       "      <td>348.0</td>\n",
       "      <td>-115.0</td>\n",
       "      <td>-133.0</td>\n",
       "    </tr>\n",
       "    <tr>\n",
       "      <th>den</th>\n",
       "      <td>-17.6</td>\n",
       "      <td>-314.6</td>\n",
       "      <td>598.4</td>\n",
       "      <td>69.4</td>\n",
       "      <td>-335.6</td>\n",
       "    </tr>\n",
       "    <tr>\n",
       "      <th>sie</th>\n",
       "      <td>-244.2</td>\n",
       "      <td>-325.2</td>\n",
       "      <td>717.8</td>\n",
       "      <td>-561.2</td>\n",
       "      <td>412.8</td>\n",
       "    </tr>\n",
       "    <tr>\n",
       "      <th>ich</th>\n",
       "      <td>-204.4</td>\n",
       "      <td>287.6</td>\n",
       "      <td>137.6</td>\n",
       "      <td>366.6</td>\n",
       "      <td>-587.4</td>\n",
       "    </tr>\n",
       "    <tr>\n",
       "      <th>nicht</th>\n",
       "      <td>125.4</td>\n",
       "      <td>-195.6</td>\n",
       "      <td>291.4</td>\n",
       "      <td>64.4</td>\n",
       "      <td>-285.6</td>\n",
       "    </tr>\n",
       "  </tbody>\n",
       "</table>\n",
       "</div>"
      ],
      "text/plain": [
       "       Spielhagen,-Friedrich_Zum Zeitvertreib.txt  \\\n",
       "und                                        -646.2   \n",
       "die                                          24.6   \n",
       "der                                          55.0   \n",
       "zu                                          -54.8   \n",
       "in                                           45.0   \n",
       "er                                          104.0   \n",
       "den                                         -17.6   \n",
       "sie                                        -244.2   \n",
       "ich                                        -204.4   \n",
       "nicht                                       125.4   \n",
       "\n",
       "       Goethe,-Johann-Wolfgang_Die Leiden des jungen Werther.txt  \\\n",
       "und                                               -405.2           \n",
       "die                                               -487.4           \n",
       "der                                               -464.0           \n",
       "zu                                                -330.8           \n",
       "in                                                -348.0           \n",
       "er                                                -204.0           \n",
       "den                                               -314.6           \n",
       "sie                                               -325.2           \n",
       "ich                                                287.6           \n",
       "nicht                                             -195.6           \n",
       "\n",
       "       Marlitt,-Eugenie_Goldelse.txt  \\\n",
       "und                           1195.8   \n",
       "die                           1223.6   \n",
       "der                            788.0   \n",
       "zu                             351.2   \n",
       "in                             611.0   \n",
       "er                             348.0   \n",
       "den                            598.4   \n",
       "sie                            717.8   \n",
       "ich                            137.6   \n",
       "nicht                          291.4   \n",
       "\n",
       "       Raabe,-Wilhelm_Stopfkuchen. Eine See- und Mordgeschichte.txt  \\\n",
       "und                                                682.8              \n",
       "die                                               -208.4              \n",
       "der                                                261.0              \n",
       "zu                                                -146.8              \n",
       "in                                                  32.0              \n",
       "er                                                -115.0              \n",
       "den                                                 69.4              \n",
       "sie                                               -561.2              \n",
       "ich                                                366.6              \n",
       "nicht                                               64.4              \n",
       "\n",
       "       Huber,-Therese_Luise.txt  \n",
       "und                      -827.2  \n",
       "die                      -552.4  \n",
       "der                      -640.0  \n",
       "zu                        181.2  \n",
       "in                       -340.0  \n",
       "er                       -133.0  \n",
       "den                      -335.6  \n",
       "sie                       412.8  \n",
       "ich                      -587.4  \n",
       "nicht                    -285.6  "
      ]
     },
     "execution_count": 55,
     "metadata": {},
     "output_type": "execute_result"
    }
   ],
   "source": [
    "data2.sub(data2.mean(axis=\"columns\"), axis=\"rows\")"
   ]
  },
  {
   "cell_type": "code",
   "execution_count": 56,
   "metadata": {
    "collapsed": false
   },
   "outputs": [
    {
     "data": {
      "text/plain": [
       "42"
      ]
     },
     "execution_count": 56,
     "metadata": {},
     "output_type": "execute_result"
    }
   ],
   "source": [
    "42"
   ]
  },
  {
   "cell_type": "markdown",
   "metadata": {},
   "source": [
    "Wir entfernen alle Terme, die in weniger als zwei Dokumenten vorkommen und wandeln die absoluten Häufigkeiten in relative um:"
   ]
  },
  {
   "cell_type": "code",
   "execution_count": 11,
   "metadata": {
    "collapsed": false
   },
   "outputs": [],
   "source": [
    "matrix, terms = helper.transform_to_relative_frequency(matrix, terms, min_df=2)"
   ]
  },
  {
   "cell_type": "markdown",
   "metadata": {},
   "source": [
    "Wir wollen nur die 1000 häufigsten Terme und wir wollen die Merkmale standardisieren (z-scores):"
   ]
  },
  {
   "cell_type": "code",
   "execution_count": 12,
   "metadata": {
    "collapsed": false
   },
   "outputs": [],
   "source": [
    "matrix, terms = helper.select_most_frequent(matrix, terms, 1000)\n",
    "z_scores = scipy.stats.zscore(matrix, axis=0, ddof=1)"
   ]
  },
  {
   "cell_type": "markdown",
   "metadata": {},
   "source": [
    "Wir plotten ein Histogramm der Merkmale eines Dokuments und legen die entsprechende Normalverteilung darüber:"
   ]
  },
  {
   "cell_type": "code",
   "execution_count": 13,
   "metadata": {
    "collapsed": false
   },
   "outputs": [
    {
     "data": {
      "image/png": "[encoded data removed]",
      "text/plain": [
       "<matplotlib.figure.Figure at 0x1143c5dd8>"
      ]
     },
     "metadata": {},
     "output_type": "display_data"
    }
   ],
   "source": [
    "sorted_z_scores = np.sort(z_scores[0])\n",
    "fit = scipy.stats.norm.pdf(sorted_z_scores, np.mean(sorted_z_scores), np.std(sorted_z_scores))\n",
    "plt.hist(sorted_z_scores, bins=20, normed=True)\n",
    "plt.plot(sorted_z_scores, fit)\n",
    "plt.show()"
   ]
  },
  {
   "cell_type": "markdown",
   "metadata": {
    "collapsed": true
   },
   "source": [
    "Das sieht nicht sehr normalverteilt aus; ein Shapiro-Wilk-Test bestätigt diesen Eindruck:"
   ]
  },
  {
   "cell_type": "code",
   "execution_count": 14,
   "metadata": {
    "collapsed": false
   },
   "outputs": [
    {
     "name": "stdout",
     "output_type": "stream",
     "text": [
      "Shapiro-Wilk: p = 3.370e-19\n"
     ]
    }
   ],
   "source": [
    "print(\"Shapiro-Wilk: p = %.3e\" % scipy.stats.shapiro(sorted_z_scores)[1])"
   ]
  },
  {
   "cell_type": "markdown",
   "metadata": {},
   "source": [
    "Testen wir noch ein paar weitere Dokumente:"
   ]
  },
  {
   "cell_type": "code",
   "execution_count": 41,
   "metadata": {
    "collapsed": false
   },
   "outputs": [
    {
     "data": {
      "image/png": "[encoded data removed]",
      "text/plain": [
       "<matplotlib.figure.Figure at 0x7f5a15ccda20>"
      ]
     },
     "metadata": {},
     "output_type": "display_data"
    },
    {
     "data": {
      "image/png": "[encoded data removed]",
      "text/plain": [
       "<matplotlib.figure.Figure at 0x7f59d7e927b8>"
      ]
     },
     "metadata": {},
     "output_type": "display_data"
    },
    {
     "data": {
      "image/png": "[encoded data removed]",
      "text/plain": [
       "<matplotlib.figure.Figure at 0x7f5a133b74a8>"
      ]
     },
     "metadata": {},
     "output_type": "display_data"
    },
    {
     "data": {
      "image/png": "[encoded data removed]",
      "text/plain": [
       "<matplotlib.figure.Figure at 0x7f5a0fec66a0>"
      ]
     },
     "metadata": {},
     "output_type": "display_data"
    }
   ],
   "source": [
    "for i in [3,6,9,12]:\n",
    "    sorted_z_scores = np.sort(z_scores[i])\n",
    "    fit = scipy.stats.norm.pdf(sorted_z_scores, np.mean(sorted_z_scores), np.std(sorted_z_scores))\n",
    "    plt.hist(sorted_z_scores, bins=20, normed=True)\n",
    "    plt.plot(sorted_z_scores, fit)\n",
    "    plt.title(\"Shapiro-Wilk: p = %.3e\" % scipy.stats.shapiro(sorted_z_scores)[1])\n",
    "    plt.show()"
   ]
  },
  {
   "cell_type": "code",
   "execution_count": null,
   "metadata": {
    "collapsed": true
   },
   "outputs": [],
   "source": []
  }
 ],
 "metadata": {
  "kernelspec": {
   "display_name": "Python 3",
   "language": "python",
   "name": "python3"
  },
  "language_info": {
   "codemirror_mode": {
    "name": "ipython",
    "version": 3
   },
   "file_extension": ".py",
   "mimetype": "text/x-python",
   "name": "python",
   "nbconvert_exporter": "python",
   "pygments_lexer": "ipython3",
   "version": "3.5.0"
  }
 },
 "nbformat": 4,
 "nbformat_minor": 0
}
