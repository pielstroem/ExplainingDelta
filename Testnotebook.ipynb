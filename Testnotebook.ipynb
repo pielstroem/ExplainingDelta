{
 "cells": [
  {
   "cell_type": "code",
   "execution_count": 14,
   "metadata": {
    "collapsed": true
   },
   "outputs": [],
   "source": [
    "%matplotlib inline"
   ]
  },
  {
   "cell_type": "markdown",
   "metadata": {},
   "source": [
    "# Notebook zum Rumspielen #\n",
    "\n",
    "## Verteilung der z-scores plotten"
   ]
  },
  {
   "cell_type": "code",
   "execution_count": 25,
   "metadata": {
    "collapsed": false
   },
   "outputs": [],
   "source": [
    "import scipy.stats\n",
    "import numpy as np\n",
    "import matplotlib.pyplot as plt\n",
    "\n",
    "import helper"
   ]
  },
  {
   "cell_type": "markdown",
   "metadata": {},
   "source": [
    "Deutsches Beispielkorpus einlesen:"
   ]
  },
  {
   "cell_type": "code",
   "execution_count": 16,
   "metadata": {
    "collapsed": false
   },
   "outputs": [],
   "source": [
    "terms, documents, matrix = helper.read_csv(\"/home/ccl/tsproisl/Dokumente/Arbeit/kallimachos/authorship/data/delta_corpus_DE.csv\")\n",
    "authors = helper.extract_authors_from_document_names(documents)"
   ]
  },
  {
   "cell_type": "markdown",
   "metadata": {},
   "source": [
    "Wir entfernen alle Terme, die in weniger als zwei Dokumenten vorkommen und wandeln die absoluten Häufigkeiten in relative um:"
   ]
  },
  {
   "cell_type": "code",
   "execution_count": 17,
   "metadata": {
    "collapsed": false
   },
   "outputs": [],
   "source": [
    "matrix, terms = helper.transform_to_relative_frequency(matrix, terms, min_df=2)"
   ]
  },
  {
   "cell_type": "markdown",
   "metadata": {},
   "source": [
    "Wir wollen nur die 1000 häufigsten Terme und wir wollen die Merkmale standardisieren (z-scores):"
   ]
  },
  {
   "cell_type": "code",
   "execution_count": 18,
   "metadata": {
    "collapsed": false
   },
   "outputs": [],
   "source": [
    "matrix, terms = helper.select_most_frequent(matrix, terms, 1000)\n",
    "z_scores = scipy.stats.zscore(matrix, axis=0, ddof=1)"
   ]
  },
  {
   "cell_type": "markdown",
   "metadata": {},
   "source": [
    "Wir plotten ein Histogramm der z-scores und legen die entsprechende Normalverteilung darüber:"
   ]
  },
  {
   "cell_type": "code",
   "execution_count": 44,
   "metadata": {
    "collapsed": false
   },
   "outputs": [
    {
     "data": {
      "image/png": "[encoded data removed]",
      "text/plain": [
       "<matplotlib.figure.Figure at 0x7fe2d4cef978>"
      ]
     },
     "metadata": {},
     "output_type": "display_data"
    }
   ],
   "source": [
    "sorted_z_scores = np.sort(z_scores[0])\n",
    "fit = scipy.stats.norm.pdf(sorted_z_scores, np.mean(sorted_z_scores), np.std(sorted_z_scores))\n",
    "plt.hist(z_scores[0], bins=20, normed=True)\n",
    "plt.plot(sorted_z_scores, fit)\n",
    "plt.show()"
   ]
  },
  {
   "cell_type": "code",
   "execution_count": null,
   "metadata": {
    "collapsed": true
   },
   "outputs": [],
   "source": []
  }
 ],
 "metadata": {
  "kernelspec": {
   "display_name": "Python 3",
   "language": "python",
   "name": "python3"
  },
  "language_info": {
   "codemirror_mode": {
    "name": "ipython",
    "version": 3
   },
   "file_extension": ".py",
   "mimetype": "text/x-python",
   "name": "python",
   "nbconvert_exporter": "python",
   "pygments_lexer": "ipython3",
   "version": "3.4.0"
  }
 },
 "nbformat": 4,
 "nbformat_minor": 0
}
