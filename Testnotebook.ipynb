{
 "cells": [
  {
   "cell_type": "code",
   "execution_count": 47,
   "metadata": {
    "collapsed": true
   },
   "outputs": [],
   "source": [
    "%matplotlib inline"
   ]
  },
  {
   "cell_type": "markdown",
   "metadata": {},
   "source": [
    "# Notebook zum Rumspielen #"
   ]
  },
  {
   "cell_type": "markdown",
   "metadata": {},
   "source": [
    "## Clustering ##"
   ]
  },
  {
   "cell_type": "code",
   "execution_count": 48,
   "metadata": {
    "collapsed": true
   },
   "outputs": [],
   "source": [
    "import numpy as np\n",
    "from sklearn import metrics\n",
    "from sklearn.cluster import AgglomerativeClustering\n",
    "from sklearn.preprocessing import normalize\n",
    "\n",
    "import helper"
   ]
  },
  {
   "cell_type": "markdown",
   "metadata": {},
   "source": [
    "Deutsches Beispielkorpus einlesen, Terme mit df < 2 entfernen, in relative Häufigkeiten umwandeln, 1000 häufigste Terme extrahieren, Termfrequenzen standardisieren, in numpy-Arrays konvertieren:"
   ]
  },
  {
   "cell_type": "code",
   "execution_count": 49,
   "metadata": {
    "collapsed": true
   },
   "outputs": [],
   "source": [
    "data = helper.read_csv_pandas(\"data/delta_corpus_DE.csv\")\n",
    "terms, documents, authors, data = helper.pandas_to_numpy(data)"
   ]
  },
  {
   "cell_type": "markdown",
   "metadata": {},
   "source": [
    "Clustern und Clustering evaluieren:"
   ]
  },
  {
   "cell_type": "code",
   "execution_count": 50,
   "metadata": {
    "collapsed": false
   },
   "outputs": [
    {
     "name": "stdout",
     "output_type": "stream",
     "text": [
      "ARI for Burrows's Delta: 0.670\n",
      "ARI for Burrows's Delta with vector normalization: 0.928\n",
      "ARI for cosine delta: 0.928\n"
     ]
    }
   ],
   "source": [
    "# Burrows's delta\n",
    "clusters = AgglomerativeClustering(n_clusters=25, affinity=\"manhattan\", linkage=\"complete\").fit_predict(data)\n",
    "print(\"ARI for Burrows's Delta: %.3f\" % metrics.adjusted_rand_score(authors, clusters))\n",
    "\n",
    "# Burrows's delta with vector normalization\n",
    "clusters = AgglomerativeClustering(n_clusters=25, affinity=\"manhattan\", linkage=\"complete\").fit_predict(normalize(data, norm=\"l1\", axis=1))\n",
    "print(\"ARI for Burrows's Delta with vector normalization: %.3f\" % metrics.adjusted_rand_score(authors, clusters))\n",
    "\n",
    "# cosine delta\n",
    "clusters = AgglomerativeClustering(n_clusters=25, affinity=\"cosine\", linkage=\"complete\").fit_predict(data)\n",
    "print(\"ARI for cosine delta: %.3f\" % metrics.adjusted_rand_score(authors, clusters))\n"
   ]
  },
  {
   "cell_type": "markdown",
   "metadata": {},
   "source": [
    "Experiment mit bei ±2 abgeschnittenen z-scores wiederholen. Burrow's Delta profitiert, die explizit oder implizit normalisierten Varianten sind unverändert:"
   ]
  },
  {
   "cell_type": "code",
   "execution_count": 51,
   "metadata": {
    "collapsed": false
   },
   "outputs": [
    {
     "name": "stdout",
     "output_type": "stream",
     "text": [
      "ARI for Burrows's Delta: 0.822\n",
      "ARI for Burrows's Delta with vector normalization: 0.928\n",
      "ARI for cosine delta: 0.928\n"
     ]
    }
   ],
   "source": [
    "data = helper.read_csv_pandas(\"data/delta_corpus_DE.csv\")\n",
    "data[data > 2] = 2\n",
    "data[data < -2] = -2\n",
    "terms, documents, authors, data = helper.pandas_to_numpy(data)\n",
    "\n",
    "# Burrows's delta\n",
    "clusters = AgglomerativeClustering(n_clusters=25, affinity=\"manhattan\", linkage=\"complete\").fit_predict(data)\n",
    "print(\"ARI for Burrows's Delta: %.3f\" % metrics.adjusted_rand_score(authors, clusters))\n",
    "\n",
    "# Burrows's delta with vector normalization\n",
    "clusters = AgglomerativeClustering(n_clusters=25, affinity=\"manhattan\", linkage=\"complete\").fit_predict(normalize(data, norm=\"l1\", axis=1))\n",
    "print(\"ARI for Burrows's Delta with vector normalization: %.3f\" % metrics.adjusted_rand_score(authors, clusters))\n",
    "\n",
    "# cosine delta\n",
    "clusters = AgglomerativeClustering(n_clusters=25, affinity=\"cosine\", linkage=\"complete\").fit_predict(data)\n",
    "print(\"ARI for cosine delta: %.3f\" % metrics.adjusted_rand_score(authors, clusters))"
   ]
  },
  {
   "cell_type": "markdown",
   "metadata": {},
   "source": [
    "## z-scores abschneiden ##"
   ]
  },
  {
   "cell_type": "code",
   "execution_count": 52,
   "metadata": {
    "collapsed": true
   },
   "outputs": [],
   "source": [
    "import helper"
   ]
  },
  {
   "cell_type": "markdown",
   "metadata": {},
   "source": [
    "Deutsches Beispielkorpus einlesen, Terme mit df < 2 entfernen, in relative Häufigkeiten umwandeln, 1000 häufigste Terme extrahieren, Termfrequenzen standardisieren:"
   ]
  },
  {
   "cell_type": "code",
   "execution_count": 53,
   "metadata": {
    "collapsed": false
   },
   "outputs": [
    {
     "data": {
      "text/plain": [
       "(75, 1000)"
      ]
     },
     "execution_count": 53,
     "metadata": {},
     "output_type": "execute_result"
    }
   ],
   "source": [
    "data = helper.read_csv_pandas(\"data/delta_corpus_DE.csv\")\n",
    "data.shape"
   ]
  },
  {
   "cell_type": "markdown",
   "metadata": {},
   "source": [
    "Schneide z-scores bei 2 bzw. -2 ab:"
   ]
  },
  {
   "cell_type": "code",
   "execution_count": 54,
   "metadata": {
    "collapsed": false
   },
   "outputs": [],
   "source": [
    "data[data > 2] = 2\n",
    "data[data < -2] = -2"
   ]
  },
  {
   "cell_type": "markdown",
   "metadata": {},
   "source": [
    "## Verteilung der z-scores plotten ##"
   ]
  },
  {
   "cell_type": "code",
   "execution_count": 55,
   "metadata": {
    "collapsed": false
   },
   "outputs": [],
   "source": [
    "import matplotlib.pyplot as plt\n",
    "import numpy as np\n",
    "import pandas as pd\n",
    "import scipy.stats\n",
    "from sklearn.preprocessing import normalize\n",
    "\n",
    "import helper"
   ]
  },
  {
   "cell_type": "markdown",
   "metadata": {},
   "source": [
    "Deutsches Beispielkorpus einlesen (geht auch viel komfortabler mit `helper.read_csv_pandas()`):"
   ]
  },
  {
   "cell_type": "code",
   "execution_count": 56,
   "metadata": {
    "collapsed": false
   },
   "outputs": [
    {
     "name": "stdout",
     "output_type": "stream",
     "text": [
      "Shape: (255358, 75)\n"
     ]
    },
    {
     "data": {
      "text/html": [
       "<div>\n",
       "<table border=\"1\" class=\"dataframe\">\n",
       "  <thead>\n",
       "    <tr style=\"text-align: right;\">\n",
       "      <th></th>\n",
       "      <th>Spielhagen,-Friedrich_Zum Zeitvertreib.txt</th>\n",
       "      <th>Goethe,-Johann-Wolfgang_Die Leiden des jungen Werther.txt</th>\n",
       "      <th>Marlitt,-Eugenie_Goldelse.txt</th>\n",
       "      <th>Raabe,-Wilhelm_Stopfkuchen. Eine See- und Mordgeschichte.txt</th>\n",
       "      <th>Huber,-Therese_Luise.txt</th>\n",
       "      <th>Hauff,-Wilhelm_Lichtenstein.txt</th>\n",
       "      <th>May,-Karl_Kurdistan.txt</th>\n",
       "      <th>Fontane,-Theodor_Effi Briest.txt</th>\n",
       "      <th>Fouqué,-Caroline-de-la-Motte_Die Frau des Falkensteins.txt</th>\n",
       "      <th>Hahn-Hahn,-Ida-Gräfin-von_Gräfin Faustine.txt</th>\n",
       "      <th>...</th>\n",
       "      <th>Arnim,-Ludwig-Achim-von_Kronenwächter 1.txt</th>\n",
       "      <th>Spielhagen,-Friedrich_Problematische Naturen. Erste Abtheilung.txt</th>\n",
       "      <th>Fouqué,-Caroline-de-la-Motte_Magie der Natur.txt</th>\n",
       "      <th>Jean-Paul_Flegeljahre.txt</th>\n",
       "      <th>Huber,-Therese_Die Familie Seldorf.txt</th>\n",
       "      <th>Ebner-Eschenbach,-Marie-von_Bozena.txt</th>\n",
       "      <th>Tieck,-Ludwig_Geschichte des Herrn William Lovell.txt</th>\n",
       "      <th>May,-Karl_Old Surehand I.txt</th>\n",
       "      <th>Wieland,-Christoph-Martin_Die Abenteuer des Don Sylvio von Rosalva.txt</th>\n",
       "      <th>Schopenhauer,-Johanna_Gabriele.txt</th>\n",
       "    </tr>\n",
       "  </thead>\n",
       "  <tbody>\n",
       "    <tr>\n",
       "      <th>und</th>\n",
       "      <td>1131</td>\n",
       "      <td>1372</td>\n",
       "      <td>2973</td>\n",
       "      <td>2460</td>\n",
       "      <td>950</td>\n",
       "      <td>3752</td>\n",
       "      <td>4045</td>\n",
       "      <td>3440</td>\n",
       "      <td>2110</td>\n",
       "      <td>2337</td>\n",
       "      <td>...</td>\n",
       "      <td>2749</td>\n",
       "      <td>5081</td>\n",
       "      <td>1403</td>\n",
       "      <td>5907</td>\n",
       "      <td>2876</td>\n",
       "      <td>1986</td>\n",
       "      <td>5444</td>\n",
       "      <td>4093</td>\n",
       "      <td>3038</td>\n",
       "      <td>3919</td>\n",
       "    </tr>\n",
       "    <tr>\n",
       "      <th>die</th>\n",
       "      <td>1370</td>\n",
       "      <td>858</td>\n",
       "      <td>2569</td>\n",
       "      <td>1137</td>\n",
       "      <td>793</td>\n",
       "      <td>2877</td>\n",
       "      <td>2650</td>\n",
       "      <td>1801</td>\n",
       "      <td>1425</td>\n",
       "      <td>1595</td>\n",
       "      <td>...</td>\n",
       "      <td>2494</td>\n",
       "      <td>4583</td>\n",
       "      <td>1027</td>\n",
       "      <td>3759</td>\n",
       "      <td>2149</td>\n",
       "      <td>1508</td>\n",
       "      <td>3323</td>\n",
       "      <td>2631</td>\n",
       "      <td>3194</td>\n",
       "      <td>2790</td>\n",
       "    </tr>\n",
       "    <tr>\n",
       "      <th>der</th>\n",
       "      <td>1262</td>\n",
       "      <td>743</td>\n",
       "      <td>1995</td>\n",
       "      <td>1468</td>\n",
       "      <td>567</td>\n",
       "      <td>2964</td>\n",
       "      <td>2757</td>\n",
       "      <td>1423</td>\n",
       "      <td>1135</td>\n",
       "      <td>1322</td>\n",
       "      <td>...</td>\n",
       "      <td>2619</td>\n",
       "      <td>4181</td>\n",
       "      <td>878</td>\n",
       "      <td>3934</td>\n",
       "      <td>1940</td>\n",
       "      <td>1252</td>\n",
       "      <td>2429</td>\n",
       "      <td>2253</td>\n",
       "      <td>2322</td>\n",
       "      <td>3090</td>\n",
       "    </tr>\n",
       "    <tr>\n",
       "      <th>zu</th>\n",
       "      <td>855</td>\n",
       "      <td>579</td>\n",
       "      <td>1261</td>\n",
       "      <td>763</td>\n",
       "      <td>1091</td>\n",
       "      <td>1681</td>\n",
       "      <td>2113</td>\n",
       "      <td>982</td>\n",
       "      <td>916</td>\n",
       "      <td>1054</td>\n",
       "      <td>...</td>\n",
       "      <td>1309</td>\n",
       "      <td>2675</td>\n",
       "      <td>599</td>\n",
       "      <td>1851</td>\n",
       "      <td>1551</td>\n",
       "      <td>940</td>\n",
       "      <td>2128</td>\n",
       "      <td>2526</td>\n",
       "      <td>2377</td>\n",
       "      <td>3292</td>\n",
       "    </tr>\n",
       "    <tr>\n",
       "      <th>in</th>\n",
       "      <td>872</td>\n",
       "      <td>479</td>\n",
       "      <td>1438</td>\n",
       "      <td>859</td>\n",
       "      <td>487</td>\n",
       "      <td>1633</td>\n",
       "      <td>1451</td>\n",
       "      <td>1040</td>\n",
       "      <td>1022</td>\n",
       "      <td>944</td>\n",
       "      <td>...</td>\n",
       "      <td>1362</td>\n",
       "      <td>3005</td>\n",
       "      <td>689</td>\n",
       "      <td>2032</td>\n",
       "      <td>1339</td>\n",
       "      <td>794</td>\n",
       "      <td>2357</td>\n",
       "      <td>1269</td>\n",
       "      <td>1774</td>\n",
       "      <td>2540</td>\n",
       "    </tr>\n",
       "  </tbody>\n",
       "</table>\n",
       "<p>5 rows × 75 columns</p>\n",
       "</div>"
      ],
      "text/plain": [
       "     Spielhagen,-Friedrich_Zum Zeitvertreib.txt  \\\n",
       "und                                        1131   \n",
       "die                                        1370   \n",
       "der                                        1262   \n",
       "zu                                          855   \n",
       "in                                          872   \n",
       "\n",
       "     Goethe,-Johann-Wolfgang_Die Leiden des jungen Werther.txt  \\\n",
       "und                                               1372           \n",
       "die                                                858           \n",
       "der                                                743           \n",
       "zu                                                 579           \n",
       "in                                                 479           \n",
       "\n",
       "     Marlitt,-Eugenie_Goldelse.txt  \\\n",
       "und                           2973   \n",
       "die                           2569   \n",
       "der                           1995   \n",
       "zu                            1261   \n",
       "in                            1438   \n",
       "\n",
       "     Raabe,-Wilhelm_Stopfkuchen. Eine See- und Mordgeschichte.txt  \\\n",
       "und                                               2460              \n",
       "die                                               1137              \n",
       "der                                               1468              \n",
       "zu                                                 763              \n",
       "in                                                 859              \n",
       "\n",
       "     Huber,-Therese_Luise.txt  Hauff,-Wilhelm_Lichtenstein.txt  \\\n",
       "und                       950                             3752   \n",
       "die                       793                             2877   \n",
       "der                       567                             2964   \n",
       "zu                       1091                             1681   \n",
       "in                        487                             1633   \n",
       "\n",
       "     May,-Karl_Kurdistan.txt  Fontane,-Theodor_Effi Briest.txt  \\\n",
       "und                     4045                              3440   \n",
       "die                     2650                              1801   \n",
       "der                     2757                              1423   \n",
       "zu                      2113                               982   \n",
       "in                      1451                              1040   \n",
       "\n",
       "     Fouqué,-Caroline-de-la-Motte_Die Frau des Falkensteins.txt  \\\n",
       "und                                               2110            \n",
       "die                                               1425            \n",
       "der                                               1135            \n",
       "zu                                                 916            \n",
       "in                                                1022            \n",
       "\n",
       "     Hahn-Hahn,-Ida-Gräfin-von_Gräfin Faustine.txt  \\\n",
       "und                                           2337   \n",
       "die                                           1595   \n",
       "der                                           1322   \n",
       "zu                                            1054   \n",
       "in                                             944   \n",
       "\n",
       "                    ...                  \\\n",
       "und                 ...                   \n",
       "die                 ...                   \n",
       "der                 ...                   \n",
       "zu                  ...                   \n",
       "in                  ...                   \n",
       "\n",
       "     Arnim,-Ludwig-Achim-von_Kronenwächter 1.txt  \\\n",
       "und                                         2749   \n",
       "die                                         2494   \n",
       "der                                         2619   \n",
       "zu                                          1309   \n",
       "in                                          1362   \n",
       "\n",
       "     Spielhagen,-Friedrich_Problematische Naturen. Erste Abtheilung.txt  \\\n",
       "und                                               5081                    \n",
       "die                                               4583                    \n",
       "der                                               4181                    \n",
       "zu                                                2675                    \n",
       "in                                                3005                    \n",
       "\n",
       "     Fouqué,-Caroline-de-la-Motte_Magie der Natur.txt  \\\n",
       "und                                              1403   \n",
       "die                                              1027   \n",
       "der                                               878   \n",
       "zu                                                599   \n",
       "in                                                689   \n",
       "\n",
       "     Jean-Paul_Flegeljahre.txt  Huber,-Therese_Die Familie Seldorf.txt  \\\n",
       "und                       5907                                    2876   \n",
       "die                       3759                                    2149   \n",
       "der                       3934                                    1940   \n",
       "zu                        1851                                    1551   \n",
       "in                        2032                                    1339   \n",
       "\n",
       "     Ebner-Eschenbach,-Marie-von_Bozena.txt  \\\n",
       "und                                    1986   \n",
       "die                                    1508   \n",
       "der                                    1252   \n",
       "zu                                      940   \n",
       "in                                      794   \n",
       "\n",
       "     Tieck,-Ludwig_Geschichte des Herrn William Lovell.txt  \\\n",
       "und                                               5444       \n",
       "die                                               3323       \n",
       "der                                               2429       \n",
       "zu                                                2128       \n",
       "in                                                2357       \n",
       "\n",
       "     May,-Karl_Old Surehand I.txt  \\\n",
       "und                          4093   \n",
       "die                          2631   \n",
       "der                          2253   \n",
       "zu                           2526   \n",
       "in                           1269   \n",
       "\n",
       "     Wieland,-Christoph-Martin_Die Abenteuer des Don Sylvio von Rosalva.txt  \\\n",
       "und                                               3038                        \n",
       "die                                               3194                        \n",
       "der                                               2322                        \n",
       "zu                                                2377                        \n",
       "in                                                1774                        \n",
       "\n",
       "     Schopenhauer,-Johanna_Gabriele.txt  \n",
       "und                                3919  \n",
       "die                                2790  \n",
       "der                                3090  \n",
       "zu                                 3292  \n",
       "in                                 2540  \n",
       "\n",
       "[5 rows x 75 columns]"
      ]
     },
     "execution_count": 56,
     "metadata": {},
     "output_type": "execute_result"
    }
   ],
   "source": [
    "data = pd.read_csv(\"data/delta_corpus_DE.csv\", sep=\",\", index_col=0)\n",
    "print(\"Shape:\", data.shape)\n",
    "data.head()\n",
    "# Ohne pandas:\n",
    "# terms, documents, matrix = helper.read_csv(\"data/delta_corpus_DE.csv\")\n",
    "# authors = helper.extract_authors_from_document_names(documents)"
   ]
  },
  {
   "cell_type": "markdown",
   "metadata": {},
   "source": [
    "Für Scikit-learn müssen wir das Dataframe transponieren:"
   ]
  },
  {
   "cell_type": "code",
   "execution_count": 57,
   "metadata": {
    "collapsed": false
   },
   "outputs": [
    {
     "name": "stdout",
     "output_type": "stream",
     "text": [
      "Shape: (75, 255358)\n"
     ]
    },
    {
     "data": {
      "text/html": [
       "<div>\n",
       "<table border=\"1\" class=\"dataframe\">\n",
       "  <thead>\n",
       "    <tr style=\"text-align: right;\">\n",
       "      <th></th>\n",
       "      <th>und</th>\n",
       "      <th>die</th>\n",
       "      <th>der</th>\n",
       "      <th>zu</th>\n",
       "      <th>in</th>\n",
       "      <th>er</th>\n",
       "      <th>den</th>\n",
       "      <th>sie</th>\n",
       "      <th>ich</th>\n",
       "      <th>nicht</th>\n",
       "      <th>...</th>\n",
       "      <th>Spatdrüse</th>\n",
       "      <th>Spatenträgern</th>\n",
       "      <th>Spatherbst</th>\n",
       "      <th>Spatregen</th>\n",
       "      <th>Spatzengehirn</th>\n",
       "      <th>Spatzengezwitscher</th>\n",
       "      <th>Spatzenhaufen</th>\n",
       "      <th>Spatzenköpfen</th>\n",
       "      <th>Spas</th>\n",
       "      <th>ῥοη</th>\n",
       "    </tr>\n",
       "  </thead>\n",
       "  <tbody>\n",
       "    <tr>\n",
       "      <th>Spielhagen,-Friedrich_Zum Zeitvertreib.txt</th>\n",
       "      <td>1131</td>\n",
       "      <td>1370</td>\n",
       "      <td>1262</td>\n",
       "      <td>855</td>\n",
       "      <td>872</td>\n",
       "      <td>688</td>\n",
       "      <td>670</td>\n",
       "      <td>672</td>\n",
       "      <td>444</td>\n",
       "      <td>780</td>\n",
       "      <td>...</td>\n",
       "      <td>0</td>\n",
       "      <td>0</td>\n",
       "      <td>0</td>\n",
       "      <td>0</td>\n",
       "      <td>0</td>\n",
       "      <td>0</td>\n",
       "      <td>0</td>\n",
       "      <td>0</td>\n",
       "      <td>0</td>\n",
       "      <td>0</td>\n",
       "    </tr>\n",
       "    <tr>\n",
       "      <th>Goethe,-Johann-Wolfgang_Die Leiden des jungen Werther.txt</th>\n",
       "      <td>1372</td>\n",
       "      <td>858</td>\n",
       "      <td>743</td>\n",
       "      <td>579</td>\n",
       "      <td>479</td>\n",
       "      <td>380</td>\n",
       "      <td>373</td>\n",
       "      <td>591</td>\n",
       "      <td>936</td>\n",
       "      <td>459</td>\n",
       "      <td>...</td>\n",
       "      <td>0</td>\n",
       "      <td>0</td>\n",
       "      <td>0</td>\n",
       "      <td>0</td>\n",
       "      <td>0</td>\n",
       "      <td>0</td>\n",
       "      <td>0</td>\n",
       "      <td>0</td>\n",
       "      <td>0</td>\n",
       "      <td>0</td>\n",
       "    </tr>\n",
       "    <tr>\n",
       "      <th>Marlitt,-Eugenie_Goldelse.txt</th>\n",
       "      <td>2973</td>\n",
       "      <td>2569</td>\n",
       "      <td>1995</td>\n",
       "      <td>1261</td>\n",
       "      <td>1438</td>\n",
       "      <td>932</td>\n",
       "      <td>1286</td>\n",
       "      <td>1634</td>\n",
       "      <td>786</td>\n",
       "      <td>946</td>\n",
       "      <td>...</td>\n",
       "      <td>0</td>\n",
       "      <td>0</td>\n",
       "      <td>0</td>\n",
       "      <td>0</td>\n",
       "      <td>0</td>\n",
       "      <td>0</td>\n",
       "      <td>0</td>\n",
       "      <td>0</td>\n",
       "      <td>0</td>\n",
       "      <td>0</td>\n",
       "    </tr>\n",
       "    <tr>\n",
       "      <th>Raabe,-Wilhelm_Stopfkuchen. Eine See- und Mordgeschichte.txt</th>\n",
       "      <td>2460</td>\n",
       "      <td>1137</td>\n",
       "      <td>1468</td>\n",
       "      <td>763</td>\n",
       "      <td>859</td>\n",
       "      <td>469</td>\n",
       "      <td>757</td>\n",
       "      <td>355</td>\n",
       "      <td>1015</td>\n",
       "      <td>719</td>\n",
       "      <td>...</td>\n",
       "      <td>0</td>\n",
       "      <td>0</td>\n",
       "      <td>0</td>\n",
       "      <td>0</td>\n",
       "      <td>0</td>\n",
       "      <td>0</td>\n",
       "      <td>0</td>\n",
       "      <td>0</td>\n",
       "      <td>0</td>\n",
       "      <td>0</td>\n",
       "    </tr>\n",
       "    <tr>\n",
       "      <th>Huber,-Therese_Luise.txt</th>\n",
       "      <td>950</td>\n",
       "      <td>793</td>\n",
       "      <td>567</td>\n",
       "      <td>1091</td>\n",
       "      <td>487</td>\n",
       "      <td>451</td>\n",
       "      <td>352</td>\n",
       "      <td>1329</td>\n",
       "      <td>61</td>\n",
       "      <td>369</td>\n",
       "      <td>...</td>\n",
       "      <td>0</td>\n",
       "      <td>0</td>\n",
       "      <td>0</td>\n",
       "      <td>0</td>\n",
       "      <td>0</td>\n",
       "      <td>0</td>\n",
       "      <td>0</td>\n",
       "      <td>0</td>\n",
       "      <td>0</td>\n",
       "      <td>0</td>\n",
       "    </tr>\n",
       "  </tbody>\n",
       "</table>\n",
       "<p>5 rows × 255358 columns</p>\n",
       "</div>"
      ],
      "text/plain": [
       "                                                     und   die   der    zu  \\\n",
       "Spielhagen,-Friedrich_Zum Zeitvertreib.txt          1131  1370  1262   855   \n",
       "Goethe,-Johann-Wolfgang_Die Leiden des jungen W...  1372   858   743   579   \n",
       "Marlitt,-Eugenie_Goldelse.txt                       2973  2569  1995  1261   \n",
       "Raabe,-Wilhelm_Stopfkuchen. Eine See- und Mordg...  2460  1137  1468   763   \n",
       "Huber,-Therese_Luise.txt                             950   793   567  1091   \n",
       "\n",
       "                                                      in   er   den   sie  \\\n",
       "Spielhagen,-Friedrich_Zum Zeitvertreib.txt           872  688   670   672   \n",
       "Goethe,-Johann-Wolfgang_Die Leiden des jungen W...   479  380   373   591   \n",
       "Marlitt,-Eugenie_Goldelse.txt                       1438  932  1286  1634   \n",
       "Raabe,-Wilhelm_Stopfkuchen. Eine See- und Mordg...   859  469   757   355   \n",
       "Huber,-Therese_Luise.txt                             487  451   352  1329   \n",
       "\n",
       "                                                     ich  nicht ...   \\\n",
       "Spielhagen,-Friedrich_Zum Zeitvertreib.txt           444    780 ...    \n",
       "Goethe,-Johann-Wolfgang_Die Leiden des jungen W...   936    459 ...    \n",
       "Marlitt,-Eugenie_Goldelse.txt                        786    946 ...    \n",
       "Raabe,-Wilhelm_Stopfkuchen. Eine See- und Mordg...  1015    719 ...    \n",
       "Huber,-Therese_Luise.txt                              61    369 ...    \n",
       "\n",
       "                                                    Spatdrüse  Spatenträgern  \\\n",
       "Spielhagen,-Friedrich_Zum Zeitvertreib.txt                  0              0   \n",
       "Goethe,-Johann-Wolfgang_Die Leiden des jungen W...          0              0   \n",
       "Marlitt,-Eugenie_Goldelse.txt                               0              0   \n",
       "Raabe,-Wilhelm_Stopfkuchen. Eine See- und Mordg...          0              0   \n",
       "Huber,-Therese_Luise.txt                                    0              0   \n",
       "\n",
       "                                                    Spatherbst  Spatregen  \\\n",
       "Spielhagen,-Friedrich_Zum Zeitvertreib.txt                   0          0   \n",
       "Goethe,-Johann-Wolfgang_Die Leiden des jungen W...           0          0   \n",
       "Marlitt,-Eugenie_Goldelse.txt                                0          0   \n",
       "Raabe,-Wilhelm_Stopfkuchen. Eine See- und Mordg...           0          0   \n",
       "Huber,-Therese_Luise.txt                                     0          0   \n",
       "\n",
       "                                                    Spatzengehirn  \\\n",
       "Spielhagen,-Friedrich_Zum Zeitvertreib.txt                      0   \n",
       "Goethe,-Johann-Wolfgang_Die Leiden des jungen W...              0   \n",
       "Marlitt,-Eugenie_Goldelse.txt                                   0   \n",
       "Raabe,-Wilhelm_Stopfkuchen. Eine See- und Mordg...              0   \n",
       "Huber,-Therese_Luise.txt                                        0   \n",
       "\n",
       "                                                    Spatzengezwitscher  \\\n",
       "Spielhagen,-Friedrich_Zum Zeitvertreib.txt                           0   \n",
       "Goethe,-Johann-Wolfgang_Die Leiden des jungen W...                   0   \n",
       "Marlitt,-Eugenie_Goldelse.txt                                        0   \n",
       "Raabe,-Wilhelm_Stopfkuchen. Eine See- und Mordg...                   0   \n",
       "Huber,-Therese_Luise.txt                                             0   \n",
       "\n",
       "                                                    Spatzenhaufen  \\\n",
       "Spielhagen,-Friedrich_Zum Zeitvertreib.txt                      0   \n",
       "Goethe,-Johann-Wolfgang_Die Leiden des jungen W...              0   \n",
       "Marlitt,-Eugenie_Goldelse.txt                                   0   \n",
       "Raabe,-Wilhelm_Stopfkuchen. Eine See- und Mordg...              0   \n",
       "Huber,-Therese_Luise.txt                                        0   \n",
       "\n",
       "                                                    Spatzenköpfen  Spas  ῥοη  \n",
       "Spielhagen,-Friedrich_Zum Zeitvertreib.txt                      0     0    0  \n",
       "Goethe,-Johann-Wolfgang_Die Leiden des jungen W...              0     0    0  \n",
       "Marlitt,-Eugenie_Goldelse.txt                                   0     0    0  \n",
       "Raabe,-Wilhelm_Stopfkuchen. Eine See- und Mordg...              0     0    0  \n",
       "Huber,-Therese_Luise.txt                                        0     0    0  \n",
       "\n",
       "[5 rows x 255358 columns]"
      ]
     },
     "execution_count": 57,
     "metadata": {},
     "output_type": "execute_result"
    }
   ],
   "source": [
    "data = data.transpose()\n",
    "print(\"Shape:\", data.shape)\n",
    "data.head()"
   ]
  },
  {
   "cell_type": "markdown",
   "metadata": {},
   "source": [
    "Wir entfernen alle Terme, die nur in einem einzigen Dokument vorkommen:"
   ]
  },
  {
   "cell_type": "code",
   "execution_count": 58,
   "metadata": {
    "collapsed": false,
    "scrolled": true
   },
   "outputs": [
    {
     "name": "stdout",
     "output_type": "stream",
     "text": [
      "Shape: (75, 126927)\n"
     ]
    },
    {
     "data": {
      "text/html": [
       "<div>\n",
       "<table border=\"1\" class=\"dataframe\">\n",
       "  <thead>\n",
       "    <tr style=\"text-align: right;\">\n",
       "      <th></th>\n",
       "      <th>und</th>\n",
       "      <th>die</th>\n",
       "      <th>der</th>\n",
       "      <th>zu</th>\n",
       "      <th>in</th>\n",
       "      <th>er</th>\n",
       "      <th>den</th>\n",
       "      <th>sie</th>\n",
       "      <th>ich</th>\n",
       "      <th>nicht</th>\n",
       "      <th>...</th>\n",
       "      <th>Katholicität</th>\n",
       "      <th>Sommerhitze</th>\n",
       "      <th>Abrichten</th>\n",
       "      <th>impressioniert</th>\n",
       "      <th>Nebelwind</th>\n",
       "      <th>Schulfreundinnen</th>\n",
       "      <th>tausendste</th>\n",
       "      <th>Nadelbüschel</th>\n",
       "      <th>unheilvoller</th>\n",
       "      <th>Schulfenster</th>\n",
       "    </tr>\n",
       "  </thead>\n",
       "  <tbody>\n",
       "    <tr>\n",
       "      <th>Spielhagen,-Friedrich_Zum Zeitvertreib.txt</th>\n",
       "      <td>1131</td>\n",
       "      <td>1370</td>\n",
       "      <td>1262</td>\n",
       "      <td>855</td>\n",
       "      <td>872</td>\n",
       "      <td>688</td>\n",
       "      <td>670</td>\n",
       "      <td>672</td>\n",
       "      <td>444</td>\n",
       "      <td>780</td>\n",
       "      <td>...</td>\n",
       "      <td>0</td>\n",
       "      <td>0</td>\n",
       "      <td>0</td>\n",
       "      <td>0</td>\n",
       "      <td>0</td>\n",
       "      <td>0</td>\n",
       "      <td>0</td>\n",
       "      <td>0</td>\n",
       "      <td>0</td>\n",
       "      <td>0</td>\n",
       "    </tr>\n",
       "    <tr>\n",
       "      <th>Goethe,-Johann-Wolfgang_Die Leiden des jungen Werther.txt</th>\n",
       "      <td>1372</td>\n",
       "      <td>858</td>\n",
       "      <td>743</td>\n",
       "      <td>579</td>\n",
       "      <td>479</td>\n",
       "      <td>380</td>\n",
       "      <td>373</td>\n",
       "      <td>591</td>\n",
       "      <td>936</td>\n",
       "      <td>459</td>\n",
       "      <td>...</td>\n",
       "      <td>0</td>\n",
       "      <td>0</td>\n",
       "      <td>0</td>\n",
       "      <td>0</td>\n",
       "      <td>0</td>\n",
       "      <td>0</td>\n",
       "      <td>0</td>\n",
       "      <td>0</td>\n",
       "      <td>0</td>\n",
       "      <td>0</td>\n",
       "    </tr>\n",
       "    <tr>\n",
       "      <th>Marlitt,-Eugenie_Goldelse.txt</th>\n",
       "      <td>2973</td>\n",
       "      <td>2569</td>\n",
       "      <td>1995</td>\n",
       "      <td>1261</td>\n",
       "      <td>1438</td>\n",
       "      <td>932</td>\n",
       "      <td>1286</td>\n",
       "      <td>1634</td>\n",
       "      <td>786</td>\n",
       "      <td>946</td>\n",
       "      <td>...</td>\n",
       "      <td>0</td>\n",
       "      <td>0</td>\n",
       "      <td>0</td>\n",
       "      <td>0</td>\n",
       "      <td>0</td>\n",
       "      <td>0</td>\n",
       "      <td>0</td>\n",
       "      <td>0</td>\n",
       "      <td>0</td>\n",
       "      <td>0</td>\n",
       "    </tr>\n",
       "    <tr>\n",
       "      <th>Raabe,-Wilhelm_Stopfkuchen. Eine See- und Mordgeschichte.txt</th>\n",
       "      <td>2460</td>\n",
       "      <td>1137</td>\n",
       "      <td>1468</td>\n",
       "      <td>763</td>\n",
       "      <td>859</td>\n",
       "      <td>469</td>\n",
       "      <td>757</td>\n",
       "      <td>355</td>\n",
       "      <td>1015</td>\n",
       "      <td>719</td>\n",
       "      <td>...</td>\n",
       "      <td>0</td>\n",
       "      <td>0</td>\n",
       "      <td>0</td>\n",
       "      <td>0</td>\n",
       "      <td>0</td>\n",
       "      <td>0</td>\n",
       "      <td>0</td>\n",
       "      <td>0</td>\n",
       "      <td>0</td>\n",
       "      <td>0</td>\n",
       "    </tr>\n",
       "    <tr>\n",
       "      <th>Huber,-Therese_Luise.txt</th>\n",
       "      <td>950</td>\n",
       "      <td>793</td>\n",
       "      <td>567</td>\n",
       "      <td>1091</td>\n",
       "      <td>487</td>\n",
       "      <td>451</td>\n",
       "      <td>352</td>\n",
       "      <td>1329</td>\n",
       "      <td>61</td>\n",
       "      <td>369</td>\n",
       "      <td>...</td>\n",
       "      <td>0</td>\n",
       "      <td>0</td>\n",
       "      <td>0</td>\n",
       "      <td>0</td>\n",
       "      <td>0</td>\n",
       "      <td>0</td>\n",
       "      <td>0</td>\n",
       "      <td>0</td>\n",
       "      <td>0</td>\n",
       "      <td>0</td>\n",
       "    </tr>\n",
       "  </tbody>\n",
       "</table>\n",
       "<p>5 rows × 126927 columns</p>\n",
       "</div>"
      ],
      "text/plain": [
       "                                                     und   die   der    zu  \\\n",
       "Spielhagen,-Friedrich_Zum Zeitvertreib.txt          1131  1370  1262   855   \n",
       "Goethe,-Johann-Wolfgang_Die Leiden des jungen W...  1372   858   743   579   \n",
       "Marlitt,-Eugenie_Goldelse.txt                       2973  2569  1995  1261   \n",
       "Raabe,-Wilhelm_Stopfkuchen. Eine See- und Mordg...  2460  1137  1468   763   \n",
       "Huber,-Therese_Luise.txt                             950   793   567  1091   \n",
       "\n",
       "                                                      in   er   den   sie  \\\n",
       "Spielhagen,-Friedrich_Zum Zeitvertreib.txt           872  688   670   672   \n",
       "Goethe,-Johann-Wolfgang_Die Leiden des jungen W...   479  380   373   591   \n",
       "Marlitt,-Eugenie_Goldelse.txt                       1438  932  1286  1634   \n",
       "Raabe,-Wilhelm_Stopfkuchen. Eine See- und Mordg...   859  469   757   355   \n",
       "Huber,-Therese_Luise.txt                             487  451   352  1329   \n",
       "\n",
       "                                                     ich  nicht      ...       \\\n",
       "Spielhagen,-Friedrich_Zum Zeitvertreib.txt           444    780      ...        \n",
       "Goethe,-Johann-Wolfgang_Die Leiden des jungen W...   936    459      ...        \n",
       "Marlitt,-Eugenie_Goldelse.txt                        786    946      ...        \n",
       "Raabe,-Wilhelm_Stopfkuchen. Eine See- und Mordg...  1015    719      ...        \n",
       "Huber,-Therese_Luise.txt                              61    369      ...        \n",
       "\n",
       "                                                    Katholicität  Sommerhitze  \\\n",
       "Spielhagen,-Friedrich_Zum Zeitvertreib.txt                     0            0   \n",
       "Goethe,-Johann-Wolfgang_Die Leiden des jungen W...             0            0   \n",
       "Marlitt,-Eugenie_Goldelse.txt                                  0            0   \n",
       "Raabe,-Wilhelm_Stopfkuchen. Eine See- und Mordg...             0            0   \n",
       "Huber,-Therese_Luise.txt                                       0            0   \n",
       "\n",
       "                                                    Abrichten  impressioniert  \\\n",
       "Spielhagen,-Friedrich_Zum Zeitvertreib.txt                  0               0   \n",
       "Goethe,-Johann-Wolfgang_Die Leiden des jungen W...          0               0   \n",
       "Marlitt,-Eugenie_Goldelse.txt                               0               0   \n",
       "Raabe,-Wilhelm_Stopfkuchen. Eine See- und Mordg...          0               0   \n",
       "Huber,-Therese_Luise.txt                                    0               0   \n",
       "\n",
       "                                                    Nebelwind  \\\n",
       "Spielhagen,-Friedrich_Zum Zeitvertreib.txt                  0   \n",
       "Goethe,-Johann-Wolfgang_Die Leiden des jungen W...          0   \n",
       "Marlitt,-Eugenie_Goldelse.txt                               0   \n",
       "Raabe,-Wilhelm_Stopfkuchen. Eine See- und Mordg...          0   \n",
       "Huber,-Therese_Luise.txt                                    0   \n",
       "\n",
       "                                                    Schulfreundinnen  \\\n",
       "Spielhagen,-Friedrich_Zum Zeitvertreib.txt                         0   \n",
       "Goethe,-Johann-Wolfgang_Die Leiden des jungen W...                 0   \n",
       "Marlitt,-Eugenie_Goldelse.txt                                      0   \n",
       "Raabe,-Wilhelm_Stopfkuchen. Eine See- und Mordg...                 0   \n",
       "Huber,-Therese_Luise.txt                                           0   \n",
       "\n",
       "                                                    tausendste  Nadelbüschel  \\\n",
       "Spielhagen,-Friedrich_Zum Zeitvertreib.txt                   0             0   \n",
       "Goethe,-Johann-Wolfgang_Die Leiden des jungen W...           0             0   \n",
       "Marlitt,-Eugenie_Goldelse.txt                                0             0   \n",
       "Raabe,-Wilhelm_Stopfkuchen. Eine See- und Mordg...           0             0   \n",
       "Huber,-Therese_Luise.txt                                     0             0   \n",
       "\n",
       "                                                    unheilvoller  Schulfenster  \n",
       "Spielhagen,-Friedrich_Zum Zeitvertreib.txt                     0             0  \n",
       "Goethe,-Johann-Wolfgang_Die Leiden des jungen W...             0             0  \n",
       "Marlitt,-Eugenie_Goldelse.txt                                  0             0  \n",
       "Raabe,-Wilhelm_Stopfkuchen. Eine See- und Mordg...             0             0  \n",
       "Huber,-Therese_Luise.txt                                       0             0  \n",
       "\n",
       "[5 rows x 126927 columns]"
      ]
     },
     "execution_count": 58,
     "metadata": {},
     "output_type": "execute_result"
    }
   ],
   "source": [
    "data = data[data.columns[data.sum(axis=0) > 1]]\n",
    "print(\"Shape:\", data.shape)\n",
    "data.head()\n",
    "# matrix, terms = helper.transform_to_relative_frequency(matrix, terms, min_df=2)"
   ]
  },
  {
   "cell_type": "markdown",
   "metadata": {},
   "source": [
    "Wir wandeln die absoluten Häufigkeiten in relative um, extrahieren die 1000 häufigsten Terme und standardisieren die Merkmale (z-scores):"
   ]
  },
  {
   "cell_type": "code",
   "execution_count": 59,
   "metadata": {
    "collapsed": false
   },
   "outputs": [
    {
     "name": "stdout",
     "output_type": "stream",
     "text": [
      "Shape: (75, 1000)\n"
     ]
    },
    {
     "data": {
      "text/html": [
       "<div>\n",
       "<table border=\"1\" class=\"dataframe\">\n",
       "  <thead>\n",
       "    <tr style=\"text-align: right;\">\n",
       "      <th></th>\n",
       "      <th>und</th>\n",
       "      <th>die</th>\n",
       "      <th>der</th>\n",
       "      <th>zu</th>\n",
       "      <th>in</th>\n",
       "      <th>sie</th>\n",
       "      <th>ich</th>\n",
       "      <th>er</th>\n",
       "      <th>den</th>\n",
       "      <th>nicht</th>\n",
       "      <th>...</th>\n",
       "      <th>sitzen</th>\n",
       "      <th>Volk</th>\n",
       "      <th>schienen</th>\n",
       "      <th>Judith</th>\n",
       "      <th>keinem</th>\n",
       "      <th>bekommen</th>\n",
       "      <th>reichte</th>\n",
       "      <th>Vor</th>\n",
       "      <th>fünf</th>\n",
       "      <th>Arzt</th>\n",
       "    </tr>\n",
       "  </thead>\n",
       "  <tbody>\n",
       "    <tr>\n",
       "      <th>Spielhagen,-Friedrich_Zum Zeitvertreib.txt</th>\n",
       "      <td>-1.876853</td>\n",
       "      <td>0.265996</td>\n",
       "      <td>0.305365</td>\n",
       "      <td>0.056052</td>\n",
       "      <td>0.633989</td>\n",
       "      <td>-0.319778</td>\n",
       "      <td>-0.639620</td>\n",
       "      <td>0.075507</td>\n",
       "      <td>0.305346</td>\n",
       "      <td>1.115073</td>\n",
       "      <td>...</td>\n",
       "      <td>-0.699188</td>\n",
       "      <td>-0.751790</td>\n",
       "      <td>-0.076962</td>\n",
       "      <td>-0.194606</td>\n",
       "      <td>0.512624</td>\n",
       "      <td>-0.062008</td>\n",
       "      <td>-0.641142</td>\n",
       "      <td>-0.106634</td>\n",
       "      <td>1.394307</td>\n",
       "      <td>-0.768305</td>\n",
       "    </tr>\n",
       "    <tr>\n",
       "      <th>Goethe,-Johann-Wolfgang_Die Leiden des jungen Werther.txt</th>\n",
       "      <td>0.596186</td>\n",
       "      <td>-0.357249</td>\n",
       "      <td>-0.467486</td>\n",
       "      <td>-0.032093</td>\n",
       "      <td>-0.818845</td>\n",
       "      <td>0.296559</td>\n",
       "      <td>1.638916</td>\n",
       "      <td>-0.639030</td>\n",
       "      <td>-0.735518</td>\n",
       "      <td>0.258243</td>\n",
       "      <td>...</td>\n",
       "      <td>1.388732</td>\n",
       "      <td>-0.427777</td>\n",
       "      <td>-0.214960</td>\n",
       "      <td>-0.194606</td>\n",
       "      <td>-1.661166</td>\n",
       "      <td>-0.952873</td>\n",
       "      <td>0.517892</td>\n",
       "      <td>-0.791668</td>\n",
       "      <td>-0.599061</td>\n",
       "      <td>-0.688995</td>\n",
       "    </tr>\n",
       "    <tr>\n",
       "      <th>Marlitt,-Eugenie_Goldelse.txt</th>\n",
       "      <td>-0.225652</td>\n",
       "      <td>0.726087</td>\n",
       "      <td>-0.194233</td>\n",
       "      <td>-0.557765</td>\n",
       "      <td>0.226136</td>\n",
       "      <td>0.569910</td>\n",
       "      <td>-0.627299</td>\n",
       "      <td>-0.721696</td>\n",
       "      <td>0.814960</td>\n",
       "      <td>-0.632250</td>\n",
       "      <td>...</td>\n",
       "      <td>-1.077405</td>\n",
       "      <td>-0.727358</td>\n",
       "      <td>-0.400876</td>\n",
       "      <td>-0.194606</td>\n",
       "      <td>-1.129093</td>\n",
       "      <td>-0.444078</td>\n",
       "      <td>1.831179</td>\n",
       "      <td>-0.061218</td>\n",
       "      <td>-0.466330</td>\n",
       "      <td>0.074675</td>\n",
       "    </tr>\n",
       "    <tr>\n",
       "      <th>Raabe,-Wilhelm_Stopfkuchen. Eine See- und Mordgeschichte.txt</th>\n",
       "      <td>1.342646</td>\n",
       "      <td>-1.325699</td>\n",
       "      <td>0.601156</td>\n",
       "      <td>-0.678550</td>\n",
       "      <td>-0.098238</td>\n",
       "      <td>-1.509341</td>\n",
       "      <td>0.563260</td>\n",
       "      <td>-1.263925</td>\n",
       "      <td>0.449260</td>\n",
       "      <td>0.194154</td>\n",
       "      <td>...</td>\n",
       "      <td>4.031084</td>\n",
       "      <td>-0.298963</td>\n",
       "      <td>-0.732048</td>\n",
       "      <td>-0.194606</td>\n",
       "      <td>1.444354</td>\n",
       "      <td>-0.466930</td>\n",
       "      <td>0.033657</td>\n",
       "      <td>-0.843246</td>\n",
       "      <td>0.478631</td>\n",
       "      <td>-0.947234</td>\n",
       "    </tr>\n",
       "    <tr>\n",
       "      <th>Huber,-Therese_Luise.txt</th>\n",
       "      <td>-1.162797</td>\n",
       "      <td>-0.781105</td>\n",
       "      <td>-1.490148</td>\n",
       "      <td>3.359030</td>\n",
       "      <td>-0.705023</td>\n",
       "      <td>3.948535</td>\n",
       "      <td>-1.533152</td>\n",
       "      <td>-0.102036</td>\n",
       "      <td>-0.960199</td>\n",
       "      <td>-0.674144</td>\n",
       "      <td>...</td>\n",
       "      <td>-0.303570</td>\n",
       "      <td>-0.923544</td>\n",
       "      <td>0.086601</td>\n",
       "      <td>-0.194606</td>\n",
       "      <td>0.588097</td>\n",
       "      <td>0.079538</td>\n",
       "      <td>0.923476</td>\n",
       "      <td>-0.788194</td>\n",
       "      <td>-0.240527</td>\n",
       "      <td>1.126353</td>\n",
       "    </tr>\n",
       "  </tbody>\n",
       "</table>\n",
       "<p>5 rows × 1000 columns</p>\n",
       "</div>"
      ],
      "text/plain": [
       "                                                         und       die  \\\n",
       "Spielhagen,-Friedrich_Zum Zeitvertreib.txt         -1.876853  0.265996   \n",
       "Goethe,-Johann-Wolfgang_Die Leiden des jungen W...  0.596186 -0.357249   \n",
       "Marlitt,-Eugenie_Goldelse.txt                      -0.225652  0.726087   \n",
       "Raabe,-Wilhelm_Stopfkuchen. Eine See- und Mordg...  1.342646 -1.325699   \n",
       "Huber,-Therese_Luise.txt                           -1.162797 -0.781105   \n",
       "\n",
       "                                                         der        zu  \\\n",
       "Spielhagen,-Friedrich_Zum Zeitvertreib.txt          0.305365  0.056052   \n",
       "Goethe,-Johann-Wolfgang_Die Leiden des jungen W... -0.467486 -0.032093   \n",
       "Marlitt,-Eugenie_Goldelse.txt                      -0.194233 -0.557765   \n",
       "Raabe,-Wilhelm_Stopfkuchen. Eine See- und Mordg...  0.601156 -0.678550   \n",
       "Huber,-Therese_Luise.txt                           -1.490148  3.359030   \n",
       "\n",
       "                                                          in       sie  \\\n",
       "Spielhagen,-Friedrich_Zum Zeitvertreib.txt          0.633989 -0.319778   \n",
       "Goethe,-Johann-Wolfgang_Die Leiden des jungen W... -0.818845  0.296559   \n",
       "Marlitt,-Eugenie_Goldelse.txt                       0.226136  0.569910   \n",
       "Raabe,-Wilhelm_Stopfkuchen. Eine See- und Mordg... -0.098238 -1.509341   \n",
       "Huber,-Therese_Luise.txt                           -0.705023  3.948535   \n",
       "\n",
       "                                                         ich        er  \\\n",
       "Spielhagen,-Friedrich_Zum Zeitvertreib.txt         -0.639620  0.075507   \n",
       "Goethe,-Johann-Wolfgang_Die Leiden des jungen W...  1.638916 -0.639030   \n",
       "Marlitt,-Eugenie_Goldelse.txt                      -0.627299 -0.721696   \n",
       "Raabe,-Wilhelm_Stopfkuchen. Eine See- und Mordg...  0.563260 -1.263925   \n",
       "Huber,-Therese_Luise.txt                           -1.533152 -0.102036   \n",
       "\n",
       "                                                         den     nicht  \\\n",
       "Spielhagen,-Friedrich_Zum Zeitvertreib.txt          0.305346  1.115073   \n",
       "Goethe,-Johann-Wolfgang_Die Leiden des jungen W... -0.735518  0.258243   \n",
       "Marlitt,-Eugenie_Goldelse.txt                       0.814960 -0.632250   \n",
       "Raabe,-Wilhelm_Stopfkuchen. Eine See- und Mordg...  0.449260  0.194154   \n",
       "Huber,-Therese_Luise.txt                           -0.960199 -0.674144   \n",
       "\n",
       "                                                      ...       sitzen  \\\n",
       "Spielhagen,-Friedrich_Zum Zeitvertreib.txt            ...    -0.699188   \n",
       "Goethe,-Johann-Wolfgang_Die Leiden des jungen W...    ...     1.388732   \n",
       "Marlitt,-Eugenie_Goldelse.txt                         ...    -1.077405   \n",
       "Raabe,-Wilhelm_Stopfkuchen. Eine See- und Mordg...    ...     4.031084   \n",
       "Huber,-Therese_Luise.txt                              ...    -0.303570   \n",
       "\n",
       "                                                        Volk  schienen  \\\n",
       "Spielhagen,-Friedrich_Zum Zeitvertreib.txt         -0.751790 -0.076962   \n",
       "Goethe,-Johann-Wolfgang_Die Leiden des jungen W... -0.427777 -0.214960   \n",
       "Marlitt,-Eugenie_Goldelse.txt                      -0.727358 -0.400876   \n",
       "Raabe,-Wilhelm_Stopfkuchen. Eine See- und Mordg... -0.298963 -0.732048   \n",
       "Huber,-Therese_Luise.txt                           -0.923544  0.086601   \n",
       "\n",
       "                                                      Judith    keinem  \\\n",
       "Spielhagen,-Friedrich_Zum Zeitvertreib.txt         -0.194606  0.512624   \n",
       "Goethe,-Johann-Wolfgang_Die Leiden des jungen W... -0.194606 -1.661166   \n",
       "Marlitt,-Eugenie_Goldelse.txt                      -0.194606 -1.129093   \n",
       "Raabe,-Wilhelm_Stopfkuchen. Eine See- und Mordg... -0.194606  1.444354   \n",
       "Huber,-Therese_Luise.txt                           -0.194606  0.588097   \n",
       "\n",
       "                                                    bekommen   reichte  \\\n",
       "Spielhagen,-Friedrich_Zum Zeitvertreib.txt         -0.062008 -0.641142   \n",
       "Goethe,-Johann-Wolfgang_Die Leiden des jungen W... -0.952873  0.517892   \n",
       "Marlitt,-Eugenie_Goldelse.txt                      -0.444078  1.831179   \n",
       "Raabe,-Wilhelm_Stopfkuchen. Eine See- und Mordg... -0.466930  0.033657   \n",
       "Huber,-Therese_Luise.txt                            0.079538  0.923476   \n",
       "\n",
       "                                                         Vor      fünf  \\\n",
       "Spielhagen,-Friedrich_Zum Zeitvertreib.txt         -0.106634  1.394307   \n",
       "Goethe,-Johann-Wolfgang_Die Leiden des jungen W... -0.791668 -0.599061   \n",
       "Marlitt,-Eugenie_Goldelse.txt                      -0.061218 -0.466330   \n",
       "Raabe,-Wilhelm_Stopfkuchen. Eine See- und Mordg... -0.843246  0.478631   \n",
       "Huber,-Therese_Luise.txt                           -0.788194 -0.240527   \n",
       "\n",
       "                                                        Arzt  \n",
       "Spielhagen,-Friedrich_Zum Zeitvertreib.txt         -0.768305  \n",
       "Goethe,-Johann-Wolfgang_Die Leiden des jungen W... -0.688995  \n",
       "Marlitt,-Eugenie_Goldelse.txt                       0.074675  \n",
       "Raabe,-Wilhelm_Stopfkuchen. Eine See- und Mordg... -0.947234  \n",
       "Huber,-Therese_Luise.txt                            1.126353  \n",
       "\n",
       "[5 rows x 1000 columns]"
      ]
     },
     "execution_count": 59,
     "metadata": {},
     "output_type": "execute_result"
    }
   ],
   "source": [
    "data = data.div(data.sum(axis=1), axis=0)\n",
    "data = data[data.sum(axis=0).order(ascending=False).head(1000).index]\n",
    "data = (data - data.mean(axis=0)) / data.std(axis=0)\n",
    "print(\"Shape:\", data.shape)\n",
    "data.head()\n",
    "# matrix, terms = helper.select_most_frequent(matrix, terms, 1000)\n",
    "# z_scores = scipy.stats.zscore(matrix, axis=0, ddof=1)"
   ]
  },
  {
   "cell_type": "markdown",
   "metadata": {},
   "source": [
    "Umwandlung in ein numpy-Array:"
   ]
  },
  {
   "cell_type": "code",
   "execution_count": 60,
   "metadata": {
    "collapsed": false
   },
   "outputs": [],
   "source": [
    "z_scores = np.array(data)"
   ]
  },
  {
   "cell_type": "markdown",
   "metadata": {},
   "source": [
    "Wir plotten ein Histogramm der Merkmale eines Dokuments und legen die entsprechende Normalverteilung darüber:"
   ]
  },
  {
   "cell_type": "code",
   "execution_count": 61,
   "metadata": {
    "collapsed": false
   },
   "outputs": [
    {
     "data": {
      "image/png": "[encoded data removed]",
      "text/plain": [
       "<matplotlib.figure.Figure at 0x7ffb04710cf8>"
      ]
     },
     "metadata": {},
     "output_type": "display_data"
    }
   ],
   "source": [
    "sorted_z_scores = np.sort(z_scores[0])\n",
    "fit = scipy.stats.norm.pdf(sorted_z_scores, np.mean(sorted_z_scores), np.std(sorted_z_scores))\n",
    "f, (ax1, ax2) = plt.subplots(1, 2, figsize=(8,4))\n",
    "ax1.hist(sorted_z_scores, bins=20, normed=True)\n",
    "ax1.plot(sorted_z_scores, fit)\n",
    "ax1.set_title(\"mean: %.3f, std: %.3f\" % (np.mean(sorted_z_scores), np.std(sorted_z_scores)))\n",
    "normalized_features = np.sort(normalize(sorted_z_scores, norm=\"l2\")[0])\n",
    "fit_normalized = scipy.stats.norm.pdf(normalized_features, np.mean(normalized_features), np.std(normalized_features))\n",
    "ax2.hist(normalized_features, bins=20, normed=True)\n",
    "ax2.plot(normalized_features, fit_normalized)\n",
    "ax2.set_title(\"mean: %.3f, std: %.3f\" % (np.mean(normalized_features), np.std(normalized_features)))\n",
    "f.show()"
   ]
  },
  {
   "cell_type": "markdown",
   "metadata": {
    "collapsed": true
   },
   "source": [
    "Das sieht nicht normalverteilt aus; ein Shapiro-Wilk-Test bestätigt diesen Eindruck:"
   ]
  },
  {
   "cell_type": "code",
   "execution_count": 62,
   "metadata": {
    "collapsed": false
   },
   "outputs": [
    {
     "name": "stdout",
     "output_type": "stream",
     "text": [
      "Shapiro-Wilk: p = 2.946e-19\n"
     ]
    }
   ],
   "source": [
    "print(\"Shapiro-Wilk: p = %.3e\" % scipy.stats.shapiro(sorted_z_scores)[1])"
   ]
  },
  {
   "cell_type": "markdown",
   "metadata": {},
   "source": [
    "Welche Wörter haben extrem hohe z-scores?"
   ]
  },
  {
   "cell_type": "code",
   "execution_count": 63,
   "metadata": {
    "collapsed": false
   },
   "outputs": [
    {
     "name": "stdout",
     "output_type": "stream",
     "text": [
      "Spielhagen,-Friedrich_Zum Zeitvertreib.txt\n",
      "0.0819555006457\n",
      "0.943561140421\n"
     ]
    },
    {
     "data": {
      "text/plain": [
       "Seite        3.006404\n",
       "paar         3.830931\n",
       "bereits      3.425621\n",
       "Um           3.539431\n",
       "Professor    3.204216\n",
       "Damen        3.812513\n",
       "völlig       3.196663\n",
       "durfte       3.079852\n",
       "gegangen     3.526864\n",
       "Name: Spielhagen,-Friedrich_Zum Zeitvertreib.txt, dtype: float64"
      ]
     },
     "execution_count": 63,
     "metadata": {},
     "output_type": "execute_result"
    }
   ],
   "source": [
    "document = data.index[0]\n",
    "print(document)\n",
    "print(data.ix[document].mean())\n",
    "print(data.ix[document].std())\n",
    "data.ix[document][data.ix[document] > 3]\n",
    "# print(documents[0])\n",
    "# print(np.mean(z_scores[0]))\n",
    "# print(np.std(z_scores[0]))\n",
    "# terms[z_scores[0] > 3]"
   ]
  },
  {
   "cell_type": "markdown",
   "metadata": {},
   "source": [
    "Testen wir noch ein paar weitere Dokumente:"
   ]
  },
  {
   "cell_type": "code",
   "execution_count": 64,
   "metadata": {
    "collapsed": false
   },
   "outputs": [
    {
     "data": {
      "image/png": "[encoded data removed]",
      "text/plain": [
       "<matplotlib.figure.Figure at 0x7ffb02720668>"
      ]
     },
     "metadata": {},
     "output_type": "display_data"
    },
    {
     "data": {
      "image/png": "[encoded data removed]",
      "text/plain": [
       "<matplotlib.figure.Figure at 0x7ffaf21ac6a0>"
      ]
     },
     "metadata": {},
     "output_type": "display_data"
    },
    {
     "data": {
      "image/png": "[encoded data removed]",
      "text/plain": [
       "<matplotlib.figure.Figure at 0x7ffaf303a2e8>"
      ]
     },
     "metadata": {},
     "output_type": "display_data"
    },
    {
     "data": {
      "image/png": "[encoded data removed]",
      "text/plain": [
       "<matplotlib.figure.Figure at 0x7ffaf369ec18>"
      ]
     },
     "metadata": {},
     "output_type": "display_data"
    }
   ],
   "source": [
    "for i in [3,6,9,12]:\n",
    "    sorted_z_scores = np.sort(z_scores[i])\n",
    "    fit = scipy.stats.norm.pdf(sorted_z_scores, np.mean(sorted_z_scores), np.std(sorted_z_scores))\n",
    "    f, (ax1, ax2) = plt.subplots(1, 2, figsize=(10, 5))\n",
    "    ax1.hist(sorted_z_scores, bins=20, normed=True)\n",
    "    ax1.plot(sorted_z_scores, fit)\n",
    "    ax1.set_title(\"mean: %.3f, std: %.3f, Shapiro-Wilk: %.3e\" % (np.mean(sorted_z_scores), np.std(sorted_z_scores), scipy.stats.shapiro(sorted_z_scores)[1]))\n",
    "    normalized_features = np.sort(normalize(sorted_z_scores, norm=\"l2\")[0])\n",
    "    fit_normalized = scipy.stats.norm.pdf(normalized_features, np.mean(normalized_features), np.std(normalized_features))\n",
    "    ax2.hist(normalized_features, bins=20, normed=True)\n",
    "    ax2.plot(normalized_features, fit_normalized)\n",
    "    ax2.set_title(\"mean: %.3f, std: %.3f, Shapiro-Wilk: %.3e\" % (np.mean(normalized_features), np.std(normalized_features), scipy.stats.shapiro(normalized_features)[1]))\n",
    "    f.show()"
   ]
  },
  {
   "cell_type": "code",
   "execution_count": null,
   "metadata": {
    "collapsed": true
   },
   "outputs": [],
   "source": []
  }
 ],
 "metadata": {
  "kernelspec": {
   "display_name": "Python 3",
   "language": "python",
   "name": "python3"
  },
  "language_info": {
   "codemirror_mode": {
    "name": "ipython",
    "version": 3
   },
   "file_extension": ".py",
   "mimetype": "text/x-python",
   "name": "python",
   "nbconvert_exporter": "python",
   "pygments_lexer": "ipython3",
   "version": "3.4.0"
  }
 },
 "nbformat": 4,
 "nbformat_minor": 0
}
